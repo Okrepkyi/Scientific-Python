{
 "cells": [
  {
   "cell_type": "code",
   "execution_count": 3,
   "metadata": {
    "collapsed": false
   },
   "outputs": [
    {
     "name": "stdout",
     "output_type": "stream",
     "text": [
      "           A         B         C         D         E\n",
      "1   0.288272 -0.327419 -0.969624 -0.047781 -0.706843\n",
      "2   0.369179  0.412199 -1.297273  1.018879 -1.524690\n",
      "3  -0.332865 -1.553526  1.151267 -2.436332 -0.556176\n",
      "4   0.887820 -0.367228  0.681783 -1.649372 -0.127860\n",
      "5  -1.002687 -1.786756  0.247621  0.414436 -0.905924\n",
      "6   0.094110  0.896417  0.380929  0.387883  0.995164\n",
      "7   0.938677  2.322036  0.623431  0.432672 -0.186945\n",
      "8  -1.561040  1.120193 -1.175454 -0.786243  0.101626\n",
      "9  -0.181692  0.994050 -0.180987  1.334269  0.217976\n",
      "10 -1.283016  2.542874  0.564599 -0.225050  0.064053\n"
     ]
    }
   ],
   "source": [
    "import numpy as np\n",
    "import pandas as pd\n",
    "\n",
    "\n",
    "df = pd.DataFrame(np.random.randn(10, 5), \n",
    "                  index=list(range(1, 11)), \n",
    "                  columns=list('ABCDE'))\n",
    "print(df)"
   ]
  },
  {
   "cell_type": "code",
   "execution_count": null,
   "metadata": {
    "collapsed": true
   },
   "outputs": [],
   "source": []
  }
 ],
 "metadata": {
  "kernelspec": {
   "display_name": "Python 3",
   "language": "python",
   "name": "python3"
  },
  "language_info": {
   "codemirror_mode": {
    "name": "ipython",
    "version": 3
   },
   "file_extension": ".py",
   "mimetype": "text/x-python",
   "name": "python",
   "nbconvert_exporter": "python",
   "pygments_lexer": "ipython3",
   "version": "3.5.2"
  }
 },
 "nbformat": 4,
 "nbformat_minor": 1
}
